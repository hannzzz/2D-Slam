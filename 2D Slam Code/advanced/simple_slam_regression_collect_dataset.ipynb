{
 "cells": [
  {
   "cell_type": "markdown",
   "metadata": {},
   "source": [
    "# Installations"
   ]
  },
  {
   "cell_type": "code",
   "execution_count": 1,
   "metadata": {},
   "outputs": [],
   "source": [
    "# %pip install coppeliasim_zmqremoteapi_client"
   ]
  },
  {
   "cell_type": "markdown",
   "metadata": {},
   "source": [
    "# Import libraries"
   ]
  },
  {
   "cell_type": "code",
   "execution_count": 2,
   "metadata": {},
   "outputs": [],
   "source": [
    "from coppeliasim_zmqremoteapi_client import RemoteAPIClient\n",
    "import numpy as np\n",
    "from matplotlib import pyplot as plt\n",
    "\n",
    "from time import sleep\n",
    "import os\n",
    "import json\n",
    "import pandas as pd\n",
    "\n",
    "\n",
    "from sklearn.preprocessing import LabelBinarizer"
   ]
  },
  {
   "cell_type": "code",
   "execution_count": 3,
   "metadata": {},
   "outputs": [],
   "source": [
    "%matplotlib inline "
   ]
  },
  {
   "cell_type": "markdown",
   "metadata": {},
   "source": [
    "# Initialize CoppeliaSim"
   ]
  },
  {
   "cell_type": "code",
   "execution_count": 4,
   "metadata": {},
   "outputs": [],
   "source": [
    "\n",
    "client = RemoteAPIClient()\n",
    "sim = client.require('sim')"
   ]
  },
  {
   "cell_type": "markdown",
   "metadata": {},
   "source": [
    "## Load Scene"
   ]
  },
  {
   "cell_type": "code",
   "execution_count": 5,
   "metadata": {},
   "outputs": [],
   "source": [
    "fullFolder = os.getcwd() # get the current file location \n",
    "sceneFile = 'room_v2.ttt'\n",
    "SCENE = os.path.join(fullFolder, sceneFile)\n",
    "\n",
    "# Load the scene\n",
    "sim.loadScene(SCENE)\n",
    "\n",
    "# Get object handles\n",
    "joint = sim.getObject('./Revolute_joint')\n",
    "proximSensor = sim.getObject('./Proximity_sensor')\n",
    "refHandle = sim.getObject('./ReferenceFrame')\n",
    "planHandle = sim.getObject('./FloorPlan')"
   ]
  },
  {
   "cell_type": "code",
   "execution_count": 6,
   "metadata": {},
   "outputs": [
    {
     "data": {
      "text/plain": [
       "((-2.0825, -1.46), (2.0825, 1.46))"
      ]
     },
     "execution_count": 6,
     "metadata": {},
     "output_type": "execute_result"
    }
   ],
   "source": [
    "plan_position = sim.getObjectPosition(planHandle)\n",
    "\n",
    "params = [sim.objfloatparam_objbbox_min_x,\n",
    "            sim.objfloatparam_objbbox_max_x,\n",
    "            sim.objfloatparam_objbbox_min_y,\n",
    "            sim.objfloatparam_objbbox_max_y,\n",
    "            sim.objfloatparam_objbbox_min_z,\n",
    "            sim.objfloatparam_objbbox_max_z]\n",
    "min_x, max_x, min_y, max_y, min_z, max_z = [sim.getObjectFloatParam(\n",
    "    planHandle, p) for p in params]\n",
    "\n",
    "sim.setObjectPosition(refHandle, [min_x, min_y, -0.1])\n",
    "\n",
    "min_coords = (min_x, min_y)\n",
    "max_coords = (max_x, max_y)\n",
    "min_coords,max_coords"
   ]
  },
  {
   "cell_type": "markdown",
   "metadata": {},
   "source": [
    "## Collect training data"
   ]
  },
  {
   "cell_type": "markdown",
   "metadata": {},
   "source": [
    "### initialize variables"
   ]
  },
  {
   "cell_type": "code",
   "execution_count": 7,
   "metadata": {},
   "outputs": [],
   "source": [
    "start = np.deg2rad(0) #\n",
    "end = np.deg2rad(360) #\n",
    "\n",
    "NoRefLocations = 8\n",
    "\n",
    "max_radius = [0.5, 0.5, 0.5, 1.0, 0.5, 0.5, 0.5, 0.5] # sample radius around reference location\n",
    "N = 36 #\n",
    "Samples = 20 # number of samples per reference location\n",
    "z = 0.1 # height above the ground\n",
    "\n",
    "angles = np.linspace(start, end, N) #split 0 - 2*pi into 36 \n",
    "angles_deg = np.rad2deg(angles)\n",
    "\n",
    "width = int(angles_deg[1]-angles_deg[0]) # width of the bar"
   ]
  },
  {
   "cell_type": "markdown",
   "metadata": {},
   "source": [
    "### collecting training data"
   ]
  },
  {
   "cell_type": "code",
   "execution_count": 8,
   "metadata": {},
   "outputs": [],
   "source": [
    "sim.stopSimulation(True)\n",
    "# enable the stepping mode on the client:\n",
    "sim.setStepping(True)\n",
    "\n",
    "sim.startSimulation()\n",
    "\n",
    "locations = []\n",
    "seq_circular_path = False\n",
    "\n",
    "for i in range(NoRefLocations):\n",
    "    id = sim.getObject('./location', {'index':i}) # get the handle of the 6 locations\n",
    "    max_radii = max_radius[i]\n",
    "    for sample in range(Samples):\n",
    "\n",
    "        if seq_circular_path:\n",
    "            radius = np.random.uniform(low=0, high=max_radii)\n",
    "        for t in angles: \n",
    "            if not seq_circular_path:\n",
    "                radius = np.random.uniform(low=0, high=max_radii)\n",
    "                \n",
    "            pose = sim.getObjectPose(id, refHandle) # get Pose [position(3), quaternion(4)] (x, y, z, xi, yi, zi, w)\n",
    "            xx = radius * np.cos(t)\n",
    "            yy = radius * np.sin(t)\n",
    "            pose[0] += xx\n",
    "            pose[1] += yy\n",
    "            pose[2] = z \n",
    "            \n",
    "            sensorData = []\n",
    "            sim.setObjectPose(joint, pose, refHandle) # place sensor above ground\n",
    "\n",
    "            for theta in angles: \n",
    "                sim.setJointPosition(joint, theta) # rotate sensor\n",
    "                \n",
    "                sim.step() # step simulation\n",
    "\n",
    "                dist = sim.readProximitySensor(proximSensor) # read distance\n",
    "                noise = np.random.uniform(low=0, high=0.1) # generate noise\n",
    "                # sensorData += noise\n",
    "                depth = dist[1] + noise # add noise\n",
    "                sensorData.append(depth) \n",
    "\n",
    "\n",
    "            location = {\n",
    "                'dummy-id': id,\n",
    "                'loc-id':i,\n",
    "                'pose':pose,\n",
    "                'sensorData':sensorData.copy()\n",
    "            }\n",
    "\n",
    "            \n",
    "            locations.append(location)\n",
    "            sleep(0.01)\n"
   ]
  },
  {
   "cell_type": "markdown",
   "metadata": {},
   "source": [
    "### stop simulation"
   ]
  },
  {
   "cell_type": "code",
   "execution_count": 18,
   "metadata": {},
   "outputs": [],
   "source": [
    "sim.stopSimulation(True)"
   ]
  },
  {
   "cell_type": "markdown",
   "metadata": {},
   "source": [
    "binarize location id"
   ]
  },
  {
   "cell_type": "code",
   "execution_count": 19,
   "metadata": {},
   "outputs": [
    {
     "data": {
      "text/plain": [
       "array([[1, 0, 0, 0, 0, 0, 0, 0],\n",
       "       [0, 1, 0, 0, 0, 0, 0, 0],\n",
       "       [0, 0, 1, 0, 0, 0, 0, 0],\n",
       "       [0, 0, 0, 1, 0, 0, 0, 0],\n",
       "       [0, 0, 0, 0, 1, 0, 0, 0],\n",
       "       [0, 0, 0, 0, 0, 1, 0, 0],\n",
       "       [0, 0, 0, 0, 0, 0, 1, 0],\n",
       "       [0, 0, 0, 0, 0, 0, 0, 1]])"
      ]
     },
     "execution_count": 19,
     "metadata": {},
     "output_type": "execute_result"
    }
   ],
   "source": [
    "cs = LabelBinarizer()\n",
    "cs.fit_transform(list(range(NoRefLocations)))"
   ]
  },
  {
   "cell_type": "code",
   "execution_count": 20,
   "metadata": {},
   "outputs": [
    {
     "data": {
      "text/html": [
       "<div>\n",
       "<style scoped>\n",
       "    .dataframe tbody tr th:only-of-type {\n",
       "        vertical-align: middle;\n",
       "    }\n",
       "\n",
       "    .dataframe tbody tr th {\n",
       "        vertical-align: top;\n",
       "    }\n",
       "\n",
       "    .dataframe thead th {\n",
       "        text-align: right;\n",
       "    }\n",
       "</style>\n",
       "<table border=\"1\" class=\"dataframe\">\n",
       "  <thead>\n",
       "    <tr style=\"text-align: right;\">\n",
       "      <th></th>\n",
       "      <th>dummy-id</th>\n",
       "      <th>loc-id</th>\n",
       "      <th>x</th>\n",
       "      <th>y</th>\n",
       "      <th>z</th>\n",
       "      <th>qx</th>\n",
       "      <th>qy</th>\n",
       "      <th>qz</th>\n",
       "      <th>qw</th>\n",
       "      <th>0</th>\n",
       "      <th>...</th>\n",
       "      <th>350</th>\n",
       "      <th>binID_0</th>\n",
       "      <th>binID_1</th>\n",
       "      <th>binID_2</th>\n",
       "      <th>binID_3</th>\n",
       "      <th>binID_4</th>\n",
       "      <th>binID_5</th>\n",
       "      <th>binID_6</th>\n",
       "      <th>binID_7</th>\n",
       "      <th>tag</th>\n",
       "    </tr>\n",
       "  </thead>\n",
       "  <tbody>\n",
       "    <tr>\n",
       "      <th>0</th>\n",
       "      <td>16</td>\n",
       "      <td>0</td>\n",
       "      <td>0.607953</td>\n",
       "      <td>2.385000</td>\n",
       "      <td>0.1</td>\n",
       "      <td>-1.136868e-13</td>\n",
       "      <td>0.000008</td>\n",
       "      <td>9.524887e-19</td>\n",
       "      <td>1.0</td>\n",
       "      <td>0.550114</td>\n",
       "      <td>...</td>\n",
       "      <td>0.556628</td>\n",
       "      <td>1</td>\n",
       "      <td>0</td>\n",
       "      <td>0</td>\n",
       "      <td>0</td>\n",
       "      <td>0</td>\n",
       "      <td>0</td>\n",
       "      <td>0</td>\n",
       "      <td>0</td>\n",
       "      <td>0</td>\n",
       "    </tr>\n",
       "    <tr>\n",
       "      <th>1</th>\n",
       "      <td>16</td>\n",
       "      <td>0</td>\n",
       "      <td>0.903408</td>\n",
       "      <td>2.452310</td>\n",
       "      <td>0.1</td>\n",
       "      <td>-1.136868e-13</td>\n",
       "      <td>0.000008</td>\n",
       "      <td>9.524887e-19</td>\n",
       "      <td>1.0</td>\n",
       "      <td>0.532471</td>\n",
       "      <td>...</td>\n",
       "      <td>0.507389</td>\n",
       "      <td>1</td>\n",
       "      <td>0</td>\n",
       "      <td>0</td>\n",
       "      <td>0</td>\n",
       "      <td>0</td>\n",
       "      <td>0</td>\n",
       "      <td>0</td>\n",
       "      <td>0</td>\n",
       "      <td>0</td>\n",
       "    </tr>\n",
       "    <tr>\n",
       "      <th>2</th>\n",
       "      <td>16</td>\n",
       "      <td>0</td>\n",
       "      <td>0.574065</td>\n",
       "      <td>2.400599</td>\n",
       "      <td>0.1</td>\n",
       "      <td>-1.136868e-13</td>\n",
       "      <td>0.000008</td>\n",
       "      <td>9.524887e-19</td>\n",
       "      <td>1.0</td>\n",
       "      <td>0.601203</td>\n",
       "      <td>...</td>\n",
       "      <td>0.535857</td>\n",
       "      <td>1</td>\n",
       "      <td>0</td>\n",
       "      <td>0</td>\n",
       "      <td>0</td>\n",
       "      <td>0</td>\n",
       "      <td>0</td>\n",
       "      <td>0</td>\n",
       "      <td>0</td>\n",
       "      <td>0</td>\n",
       "    </tr>\n",
       "    <tr>\n",
       "      <th>3</th>\n",
       "      <td>16</td>\n",
       "      <td>0</td>\n",
       "      <td>0.872754</td>\n",
       "      <td>2.588291</td>\n",
       "      <td>0.1</td>\n",
       "      <td>-1.136868e-13</td>\n",
       "      <td>0.000008</td>\n",
       "      <td>9.524887e-19</td>\n",
       "      <td>1.0</td>\n",
       "      <td>0.356452</td>\n",
       "      <td>...</td>\n",
       "      <td>0.401079</td>\n",
       "      <td>1</td>\n",
       "      <td>0</td>\n",
       "      <td>0</td>\n",
       "      <td>0</td>\n",
       "      <td>0</td>\n",
       "      <td>0</td>\n",
       "      <td>0</td>\n",
       "      <td>0</td>\n",
       "      <td>0</td>\n",
       "    </tr>\n",
       "    <tr>\n",
       "      <th>4</th>\n",
       "      <td>16</td>\n",
       "      <td>0</td>\n",
       "      <td>0.617251</td>\n",
       "      <td>2.459043</td>\n",
       "      <td>0.1</td>\n",
       "      <td>-1.136868e-13</td>\n",
       "      <td>0.000008</td>\n",
       "      <td>9.524887e-19</td>\n",
       "      <td>1.0</td>\n",
       "      <td>0.457452</td>\n",
       "      <td>...</td>\n",
       "      <td>0.466858</td>\n",
       "      <td>1</td>\n",
       "      <td>0</td>\n",
       "      <td>0</td>\n",
       "      <td>0</td>\n",
       "      <td>0</td>\n",
       "      <td>0</td>\n",
       "      <td>0</td>\n",
       "      <td>0</td>\n",
       "      <td>0</td>\n",
       "    </tr>\n",
       "  </tbody>\n",
       "</table>\n",
       "<p>5 rows × 54 columns</p>\n",
       "</div>"
      ],
      "text/plain": [
       "   dummy-id  loc-id         x         y    z            qx        qy  \\\n",
       "0        16       0  0.607953  2.385000  0.1 -1.136868e-13  0.000008   \n",
       "1        16       0  0.903408  2.452310  0.1 -1.136868e-13  0.000008   \n",
       "2        16       0  0.574065  2.400599  0.1 -1.136868e-13  0.000008   \n",
       "3        16       0  0.872754  2.588291  0.1 -1.136868e-13  0.000008   \n",
       "4        16       0  0.617251  2.459043  0.1 -1.136868e-13  0.000008   \n",
       "\n",
       "             qz   qw         0  ...       350  binID_0  binID_1  binID_2  \\\n",
       "0  9.524887e-19  1.0  0.550114  ...  0.556628        1        0        0   \n",
       "1  9.524887e-19  1.0  0.532471  ...  0.507389        1        0        0   \n",
       "2  9.524887e-19  1.0  0.601203  ...  0.535857        1        0        0   \n",
       "3  9.524887e-19  1.0  0.356452  ...  0.401079        1        0        0   \n",
       "4  9.524887e-19  1.0  0.457452  ...  0.466858        1        0        0   \n",
       "\n",
       "   binID_3  binID_4  binID_5  binID_6  binID_7  tag  \n",
       "0        0        0        0        0        0    0  \n",
       "1        0        0        0        0        0    0  \n",
       "2        0        0        0        0        0    0  \n",
       "3        0        0        0        0        0    0  \n",
       "4        0        0        0        0        0    0  \n",
       "\n",
       "[5 rows x 54 columns]"
      ]
     },
     "execution_count": 20,
     "metadata": {},
     "output_type": "execute_result"
    }
   ],
   "source": [
    "df = pd.DataFrame(locations)\n",
    "df[['x', 'y', 'z', 'qx', 'qy', 'qz', 'qw']] = pd.DataFrame(df['pose'].tolist(), index=df.index)\n",
    "df = df.drop(columns=['pose'])\n",
    "df[[theta for theta in range(0, 360, 10)]] = pd.DataFrame(df['sensorData'].tolist(), index=df.index)\n",
    "df = df.drop(columns=['sensorData'])\n",
    "# df[[f'binID_{ref}' for ref in range(8)]] = pd.DataFrame(to_categorical(df['loc-id']), index=df.index)\n",
    "df[[f'binID_{ref}' for ref in range(8)]] = pd.DataFrame(cs.transform(df['loc-id']), index=df.index)\n",
    "df[['tag']] = 0 # 'val'\n",
    "df.head()"
   ]
  },
  {
   "cell_type": "markdown",
   "metadata": {},
   "source": [
    "### visualizing samples of training data to reconstruct map"
   ]
  },
  {
   "cell_type": "code",
   "execution_count": 21,
   "metadata": {},
   "outputs": [
    {
     "data": {
      "text/plain": [
       "Text(0, 0.5, 'y(m)')"
      ]
     },
     "execution_count": 21,
     "metadata": {},
     "output_type": "execute_result"
    },
    {
     "data": {
      "image/png": "[encoded data removed]",
      "text/plain": [
       "<Figure size 640x480 with 1 Axes>"
      ]
     },
     "metadata": {},
     "output_type": "display_data"
    }
   ],
   "source": [
    "start = 9\n",
    "N = 36\n",
    "\n",
    "df_singe_sample_per_location = df.drop_duplicates('loc-id')\n",
    "\n",
    "index = df_singe_sample_per_location.columns\n",
    "end = N\n",
    "for row in df_singe_sample_per_location.iloc:\n",
    "\n",
    "    ref_x = row['x']\n",
    "    ref_y = row['y']\n",
    "    id = int(row['loc-id'])\n",
    "    ps = np.array([[ref_x + depth * np.sin(np.deg2rad(-float(angle))), ref_y + depth * np.cos(np.deg2rad(-float(angle)))] for angle, depth in zip(index[start:start+N], row[index[start:start+N]].to_numpy())])\n",
    "    plt.scatter(ps[:,0], ps[:,1])\n",
    "    plt.plot(ref_x, ref_y, c='k', marker=f'${id}$')\n",
    "    # break\n",
    "# \n",
    "# plt.legend()\n",
    "plt.xlabel('x(m)')\n",
    "plt.ylabel('y(m)')"
   ]
  },
  {
   "cell_type": "code",
   "execution_count": 23,
   "metadata": {},
   "outputs": [],
   "source": [
    "# imitating sensor data rotation\n",
    "def rotate_data(row):\n",
    "    N = 36\n",
    "    dummy_id = row['dummy-id']\n",
    "    loc_id = row['loc-id']\n",
    "    pose = row[['x', 'y', 'z', 'qx', 'qy', 'qz', 'qw']]\n",
    "    index = row.index\n",
    "    tag = row['tag']\n",
    "    # print(index)\n",
    "    originalData = list(row[[theta for theta in range(0, 360, 10)]])\n",
    "\n",
    "    loc_id_bin = row[[f'binID_{ref}' for ref in range(8)]]\n",
    "    dummy_ids = []\n",
    "    loc_ids = []\n",
    "    poses = []\n",
    "    loc_id_bins = []\n",
    "    tags = []\n",
    "    tags.append(tag)\n",
    "    X = []\n",
    "    for _ in range(N):\n",
    "        X.append(originalData.copy())\n",
    "\n",
    "        dummy_ids.append(dummy_id)\n",
    "        loc_ids.append(loc_id)\n",
    "        poses.append(pose)\n",
    "        loc_id_bins.append(loc_id_bin)\n",
    "\n",
    "        # Rotate the sensor data\n",
    "        originalData = [originalData.pop()] + originalData\n",
    "        tags.append(1) # train\n",
    "    \n",
    "    dummy_ids = np.expand_dims(np.array(dummy_ids), axis=1)\n",
    "    loc_ids = np.expand_dims(np.array(loc_ids), axis=1)\n",
    "\n",
    "    tags = np.expand_dims(np.array(tags[:N]), axis=1) # train\n",
    "    \n",
    "    poses = np.array(poses)\n",
    "    loc_id_bins = np.array(loc_id_bins)\n",
    "    stacked = np.hstack([dummy_ids, loc_ids, poses, X, loc_id_bins, tags])\n",
    "    # print(loc_id_bins.shape, poses.shape, stacked.shape)\n",
    "    return pd.DataFrame(stacked, columns=index)\n"
   ]
  },
  {
   "cell_type": "markdown",
   "metadata": {},
   "source": [
    "### Data augmentation for robustness to rotation of sensor"
   ]
  },
  {
   "cell_type": "code",
   "execution_count": 24,
   "metadata": {},
   "outputs": [],
   "source": [
    "# df_extended = []\n",
    "for id in range(len(df)):\n",
    "    row = df.iloc[id]\n",
    "    df_ = rotate_data(row)\n",
    "    if id == 0:\n",
    "        df_extended = df_\n",
    "        continue\n",
    "    # df_extended.append(df_)\n",
    "    df_extended = pd.concat([df_extended, df_])\n"
   ]
  },
  {
   "cell_type": "markdown",
   "metadata": {},
   "source": [
    "### save dataset"
   ]
  },
  {
   "cell_type": "code",
   "execution_count": 25,
   "metadata": {},
   "outputs": [],
   "source": [
    "df_extended.to_pickle('dataset.pkl')"
   ]
  },
  {
   "cell_type": "markdown",
   "metadata": {},
   "source": [
    "## Testing"
   ]
  },
  {
   "cell_type": "markdown",
   "metadata": {},
   "source": [
    "### Test Case 1\n",
    "\n",
    "Data from random locations\n",
    "\n",
    "- (random-x, y)\n",
    "- (x, random-y)\n",
    "- (random-x, random-y)"
   ]
  },
  {
   "cell_type": "code",
   "execution_count": 26,
   "metadata": {},
   "outputs": [
    {
     "name": "stdout",
     "output_type": "stream",
     "text": [
      "[1.81339190832764, 0.5350000000000225, 0.1]\n",
      "[1.9325016753644586, 1.028149273042955, 0.1]\n",
      "[2.3210575059708605, 0.6267311872884229, 0.1]\n"
     ]
    }
   ],
   "source": [
    "# enable the stepping mode on the client:\n",
    "\n",
    "sim.stopSimulation(True)\n",
    "sim.setStepping(True)\n",
    "\n",
    "sim.startSimulation()\n",
    "offset = 0.5\n",
    "# min_x, max_x = min_coords[0] + offset, max_coords[0] - offset\n",
    "\n",
    "# min_y, max_y = min_coords[1] + offset, max_coords[1] - offset\n",
    "\n",
    "\n",
    "ref_loc_ids = np.random.permutation(NoRefLocations)\n",
    "ref_loc_id = int(ref_loc_ids[0])\n",
    "\n",
    "id = sim.getObject('./location', {'index':ref_loc_id})\n",
    "position = sim.getObjectPosition(id, refHandle)\n",
    "\n",
    "min_x, max_x = position[0] - offset, position[0] + offset\n",
    "\n",
    "min_y, max_y = position[1] - offset, position[1] + offset\n",
    "y_test = [\n",
    "    [np.random.uniform(low =  min_x, high = max_x), position[1]],\n",
    "    [position[0], np.random.uniform(low = min_y, high = max_y)],\n",
    "    [np.random.uniform(low =  min_x, high = max_x), np.random.uniform(low = min_y, high = max_y)]\n",
    "]\n",
    "rgbs = []\n",
    "size = 0.1#[0.1]*3\n",
    "test_shapeHandle = []\n",
    "locations_test = []\n",
    "for loc in y_test:\n",
    "    # shapeHandle = sim.createPrimitiveShape(sim.primitiveshape_spheroid, size)\n",
    "    # test_shapeHandle.append(shapeHandle)\n",
    "    shapeHandle = sim.createDummy(size)\n",
    "    test_shapeHandle.append(shapeHandle)\n",
    "    pos = loc+[z]\n",
    "    print(pos)\n",
    "    sim.setObjectPosition(shapeHandle, pos, refHandle)\n",
    "    \n",
    "    rgbData = list(np.random.rand(3))\n",
    "    rgbs.append(rgbData)\n",
    "    # sim.setShapeColor(shapeHandle, None, sim.colorcomponent_ambient_diffuse, rgbData)\n",
    "    sim.setObjectColor(shapeHandle, 0, sim.colorcomponent_ambient_diffuse, rgbData)\n",
    "\n",
    "    sim.setObjectPosition(joint, pos, refHandle)\n",
    "\n",
    "    sensorData = []\n",
    "    for theta in angles:\n",
    "        sim.setJointPosition(joint, theta)\n",
    "        sim.step()\n",
    "        dist = sim.readProximitySensor(proximSensor)\n",
    "        \n",
    "        noise = np.random.uniform(low=0, high=0.1) # generate noise\n",
    "        \n",
    "        depth = dist[1] + noise # add noise\n",
    "        sensorData.append(depth)\n",
    "    pose = pos + [0, 0, 0]\n",
    "    location = {\n",
    "        'dummy-id': id,\n",
    "        'loc-id': ref_loc_id,\n",
    "        'pose':pose,\n",
    "        'sensorData':sensorData.copy()\n",
    "    }\n",
    "    locations_test.append(location)\n",
    "    sim.step()\n",
    "    sleep(0.1)\n"
   ]
  },
  {
   "cell_type": "markdown",
   "metadata": {},
   "source": [
    "### Test Case 2\n",
    "\n",
    "Data from known reference location but at arbitary starting angle"
   ]
  },
  {
   "cell_type": "code",
   "execution_count": 27,
   "metadata": {},
   "outputs": [
    {
     "name": "stdout",
     "output_type": "stream",
     "text": [
      "2\n",
      "1\n",
      "6\n",
      "5\n"
     ]
    }
   ],
   "source": [
    "sample_locs = 4 \n",
    "loc_ids = np.random.permutation(NoRefLocations)\n",
    "for i in range(sample_locs):\n",
    "    loc_id = int(loc_ids[i]) # randomly choose location 0 - 6\n",
    "    rgbData = list(np.random.rand(3))\n",
    "    rgbs.append(rgbData)\n",
    "\n",
    "    id = sim.getObject('./location', {'index':loc_id}) # get the handle of the 6 locations\n",
    "    start_heading = np.random.uniform(low=0, high=(2*np.pi)) # randomly choose starting angle for the sensor\n",
    "    \n",
    "    pos = sim.getObjectPosition(id, refHandle)\n",
    "    ori = sim.getObjectOrientation(id)\n",
    "\n",
    "    sim.setObjectColor(id, 0, sim.colorcomponent_ambient_diffuse, rgbData)\n",
    "    # sim.setObjectColor(id, 0, sim.colorcomponent_transparency, transparency)\n",
    "\n",
    "    pos[2] = z\n",
    "    ori[2] = start_heading\n",
    "    \n",
    "    \n",
    "\n",
    "    sim.setObjectPosition(joint, pos, refHandle)\n",
    "    sim.setObjectOrientation(joint, ori)\n",
    "    sensorData = []\n",
    "    for theta in angles:\n",
    "        sim.setJointPosition(joint, theta)\n",
    "        sim.step()\n",
    "        dist = sim.readProximitySensor(proximSensor)\n",
    "        \n",
    "        noise = np.random.uniform(low=0, high=0.1) # generate noise\n",
    "        \n",
    "        depth = dist[1] + noise # add noise\n",
    "        sensorData.append(depth)\n",
    "    pose = pos+ori\n",
    "    location = {\n",
    "        'dummy-id': id,\n",
    "        'loc-id':loc_id,\n",
    "        'pose':pose,\n",
    "        'sensorData':sensorData\n",
    "    }\n",
    "    sleep(0.02)\n",
    "    locations_test.append(location)\n",
    "\n",
    "    print(loc_id)\n",
    "    \n",
    "    # sleep(0.5)\n",
    "    # pose"
   ]
  },
  {
   "cell_type": "code",
   "execution_count": 28,
   "metadata": {},
   "outputs": [],
   "source": [
    "# Dump data to file\n",
    "with open('testRegressSensorData.json', 'w') as fp:\n",
    "    fp.writelines(json.dumps(locations_test))"
   ]
  },
  {
   "cell_type": "code",
   "execution_count": 29,
   "metadata": {},
   "outputs": [],
   "source": [
    "\n",
    "sim.stopSimulation(True)"
   ]
  },
  {
   "cell_type": "code",
   "execution_count": 30,
   "metadata": {},
   "outputs": [
    {
     "data": {
      "text/html": [
       "<div>\n",
       "<style scoped>\n",
       "    .dataframe tbody tr th:only-of-type {\n",
       "        vertical-align: middle;\n",
       "    }\n",
       "\n",
       "    .dataframe tbody tr th {\n",
       "        vertical-align: top;\n",
       "    }\n",
       "\n",
       "    .dataframe thead th {\n",
       "        text-align: right;\n",
       "    }\n",
       "</style>\n",
       "<table border=\"1\" class=\"dataframe\">\n",
       "  <thead>\n",
       "    <tr style=\"text-align: right;\">\n",
       "      <th></th>\n",
       "      <th>dummy-id</th>\n",
       "      <th>loc-id</th>\n",
       "      <th>x</th>\n",
       "      <th>y</th>\n",
       "      <th>z</th>\n",
       "      <th>roll</th>\n",
       "      <th>pitch</th>\n",
       "      <th>yaw</th>\n",
       "      <th>0</th>\n",
       "      <th>10</th>\n",
       "      <th>...</th>\n",
       "      <th>260</th>\n",
       "      <th>270</th>\n",
       "      <th>280</th>\n",
       "      <th>290</th>\n",
       "      <th>300</th>\n",
       "      <th>310</th>\n",
       "      <th>320</th>\n",
       "      <th>330</th>\n",
       "      <th>340</th>\n",
       "      <th>350</th>\n",
       "    </tr>\n",
       "  </thead>\n",
       "  <tbody>\n",
       "    <tr>\n",
       "      <th>0</th>\n",
       "      <td>20</td>\n",
       "      <td>4</td>\n",
       "      <td>1.813392</td>\n",
       "      <td>0.535000</td>\n",
       "      <td>0.1</td>\n",
       "      <td>0.0</td>\n",
       "      <td>0.0</td>\n",
       "      <td>0.000000</td>\n",
       "      <td>2.426686</td>\n",
       "      <td>2.424178</td>\n",
       "      <td>...</td>\n",
       "      <td>2.438160</td>\n",
       "      <td>2.398437</td>\n",
       "      <td>2.483439</td>\n",
       "      <td>2.714258</td>\n",
       "      <td>2.282444</td>\n",
       "      <td>2.109509</td>\n",
       "      <td>2.744493</td>\n",
       "      <td>2.584676</td>\n",
       "      <td>2.429703</td>\n",
       "      <td>2.417011</td>\n",
       "    </tr>\n",
       "    <tr>\n",
       "      <th>1</th>\n",
       "      <td>20</td>\n",
       "      <td>4</td>\n",
       "      <td>1.932502</td>\n",
       "      <td>1.028149</td>\n",
       "      <td>0.1</td>\n",
       "      <td>0.0</td>\n",
       "      <td>0.0</td>\n",
       "      <td>0.000000</td>\n",
       "      <td>1.953756</td>\n",
       "      <td>2.003824</td>\n",
       "      <td>...</td>\n",
       "      <td>2.289258</td>\n",
       "      <td>2.269191</td>\n",
       "      <td>2.376092</td>\n",
       "      <td>1.933106</td>\n",
       "      <td>1.633104</td>\n",
       "      <td>1.957648</td>\n",
       "      <td>2.238810</td>\n",
       "      <td>2.095378</td>\n",
       "      <td>2.009839</td>\n",
       "      <td>1.973997</td>\n",
       "    </tr>\n",
       "    <tr>\n",
       "      <th>2</th>\n",
       "      <td>20</td>\n",
       "      <td>4</td>\n",
       "      <td>2.321058</td>\n",
       "      <td>0.626731</td>\n",
       "      <td>0.1</td>\n",
       "      <td>0.0</td>\n",
       "      <td>0.0</td>\n",
       "      <td>0.000000</td>\n",
       "      <td>2.332212</td>\n",
       "      <td>2.415879</td>\n",
       "      <td>...</td>\n",
       "      <td>1.918386</td>\n",
       "      <td>1.942723</td>\n",
       "      <td>1.936780</td>\n",
       "      <td>2.149761</td>\n",
       "      <td>2.154721</td>\n",
       "      <td>1.833177</td>\n",
       "      <td>1.705306</td>\n",
       "      <td>2.487324</td>\n",
       "      <td>2.368552</td>\n",
       "      <td>2.354559</td>\n",
       "    </tr>\n",
       "    <tr>\n",
       "      <th>3</th>\n",
       "      <td>18</td>\n",
       "      <td>2</td>\n",
       "      <td>1.082502</td>\n",
       "      <td>1.835000</td>\n",
       "      <td>0.1</td>\n",
       "      <td>-0.0</td>\n",
       "      <td>0.0</td>\n",
       "      <td>5.908503</td>\n",
       "      <td>1.178712</td>\n",
       "      <td>1.098187</td>\n",
       "      <td>...</td>\n",
       "      <td>3.406398</td>\n",
       "      <td>3.228157</td>\n",
       "      <td>3.133003</td>\n",
       "      <td>2.194985</td>\n",
       "      <td>2.291467</td>\n",
       "      <td>2.344274</td>\n",
       "      <td>1.840860</td>\n",
       "      <td>1.484091</td>\n",
       "      <td>1.304871</td>\n",
       "      <td>1.229792</td>\n",
       "    </tr>\n",
       "    <tr>\n",
       "      <th>4</th>\n",
       "      <td>17</td>\n",
       "      <td>1</td>\n",
       "      <td>2.657502</td>\n",
       "      <td>2.385000</td>\n",
       "      <td>0.1</td>\n",
       "      <td>-0.0</td>\n",
       "      <td>0.0</td>\n",
       "      <td>0.398866</td>\n",
       "      <td>0.665196</td>\n",
       "      <td>0.663879</td>\n",
       "      <td>...</td>\n",
       "      <td>0.601305</td>\n",
       "      <td>0.637592</td>\n",
       "      <td>0.796883</td>\n",
       "      <td>0.676427</td>\n",
       "      <td>0.665282</td>\n",
       "      <td>0.608184</td>\n",
       "      <td>0.628144</td>\n",
       "      <td>0.545811</td>\n",
       "      <td>0.564383</td>\n",
       "      <td>0.594324</td>\n",
       "    </tr>\n",
       "    <tr>\n",
       "      <th>5</th>\n",
       "      <td>22</td>\n",
       "      <td>6</td>\n",
       "      <td>1.607502</td>\n",
       "      <td>2.385000</td>\n",
       "      <td>0.1</td>\n",
       "      <td>-0.0</td>\n",
       "      <td>0.0</td>\n",
       "      <td>3.972919</td>\n",
       "      <td>3.455499</td>\n",
       "      <td>3.051573</td>\n",
       "      <td>...</td>\n",
       "      <td>1.514828</td>\n",
       "      <td>1.314409</td>\n",
       "      <td>1.221685</td>\n",
       "      <td>1.100131</td>\n",
       "      <td>2.398451</td>\n",
       "      <td>2.441828</td>\n",
       "      <td>2.488673</td>\n",
       "      <td>2.724933</td>\n",
       "      <td>3.068425</td>\n",
       "      <td>3.453858</td>\n",
       "    </tr>\n",
       "    <tr>\n",
       "      <th>6</th>\n",
       "      <td>21</td>\n",
       "      <td>5</td>\n",
       "      <td>3.632502</td>\n",
       "      <td>0.535000</td>\n",
       "      <td>0.1</td>\n",
       "      <td>-0.0</td>\n",
       "      <td>0.0</td>\n",
       "      <td>1.873366</td>\n",
       "      <td>1.767024</td>\n",
       "      <td>1.186554</td>\n",
       "      <td>...</td>\n",
       "      <td>1.502736</td>\n",
       "      <td>2.681612</td>\n",
       "      <td>2.935671</td>\n",
       "      <td>3.493334</td>\n",
       "      <td>4.302348</td>\n",
       "      <td>3.993685</td>\n",
       "      <td>2.344561</td>\n",
       "      <td>2.281825</td>\n",
       "      <td>2.354320</td>\n",
       "      <td>1.769773</td>\n",
       "    </tr>\n",
       "  </tbody>\n",
       "</table>\n",
       "<p>7 rows × 44 columns</p>\n",
       "</div>"
      ],
      "text/plain": [
       "   dummy-id  loc-id         x         y    z  roll  pitch       yaw         0  \\\n",
       "0        20       4  1.813392  0.535000  0.1   0.0    0.0  0.000000  2.426686   \n",
       "1        20       4  1.932502  1.028149  0.1   0.0    0.0  0.000000  1.953756   \n",
       "2        20       4  2.321058  0.626731  0.1   0.0    0.0  0.000000  2.332212   \n",
       "3        18       2  1.082502  1.835000  0.1  -0.0    0.0  5.908503  1.178712   \n",
       "4        17       1  2.657502  2.385000  0.1  -0.0    0.0  0.398866  0.665196   \n",
       "5        22       6  1.607502  2.385000  0.1  -0.0    0.0  3.972919  3.455499   \n",
       "6        21       5  3.632502  0.535000  0.1  -0.0    0.0  1.873366  1.767024   \n",
       "\n",
       "         10  ...       260       270       280       290       300       310  \\\n",
       "0  2.424178  ...  2.438160  2.398437  2.483439  2.714258  2.282444  2.109509   \n",
       "1  2.003824  ...  2.289258  2.269191  2.376092  1.933106  1.633104  1.957648   \n",
       "2  2.415879  ...  1.918386  1.942723  1.936780  2.149761  2.154721  1.833177   \n",
       "3  1.098187  ...  3.406398  3.228157  3.133003  2.194985  2.291467  2.344274   \n",
       "4  0.663879  ...  0.601305  0.637592  0.796883  0.676427  0.665282  0.608184   \n",
       "5  3.051573  ...  1.514828  1.314409  1.221685  1.100131  2.398451  2.441828   \n",
       "6  1.186554  ...  1.502736  2.681612  2.935671  3.493334  4.302348  3.993685   \n",
       "\n",
       "        320       330       340       350  \n",
       "0  2.744493  2.584676  2.429703  2.417011  \n",
       "1  2.238810  2.095378  2.009839  1.973997  \n",
       "2  1.705306  2.487324  2.368552  2.354559  \n",
       "3  1.840860  1.484091  1.304871  1.229792  \n",
       "4  0.628144  0.545811  0.564383  0.594324  \n",
       "5  2.488673  2.724933  3.068425  3.453858  \n",
       "6  2.344561  2.281825  2.354320  1.769773  \n",
       "\n",
       "[7 rows x 44 columns]"
      ]
     },
     "execution_count": 30,
     "metadata": {},
     "output_type": "execute_result"
    }
   ],
   "source": [
    "\n",
    "df_test = pd.DataFrame(locations_test)\n",
    "df_test[['x', 'y', 'z', 'roll', 'pitch', 'yaw']] = pd.DataFrame(df_test['pose'].tolist(), index=df_test.index)\n",
    "df_test = df_test.drop(columns=['pose'])\n",
    "df_test[[theta for theta in range(0, 360, 10)]] = pd.DataFrame(df_test['sensorData'].tolist(), index=df_test.index)\n",
    "df_test = df_test.drop(columns=['sensorData'])\n",
    "df_test"
   ]
  },
  {
   "cell_type": "code",
   "execution_count": 31,
   "metadata": {},
   "outputs": [
    {
     "data": {
      "image/png": "[encoded data removed]",
      "text/plain": [
       "<Figure size 640x480 with 1 Axes>"
      ]
     },
     "metadata": {},
     "output_type": "display_data"
    }
   ],
   "source": [
    "index = df_test.columns\n",
    "for row in df_test.iloc:\n",
    "\n",
    "    ref_x = row['x']\n",
    "    ref_y = row['y']\n",
    "    id = int(row['loc-id'])\n",
    "    ps = np.array([[ref_x + depth * np.sin(np.deg2rad(-float(angle))), ref_y + depth * np.cos(np.deg2rad(-float(angle)))] for angle, depth in zip(index[start:start+N], row[index[start:start+N]].to_numpy())])\n",
    "    # plt.scatter(ps[:,0], ps[:,1])\n",
    "    plt.scatter(ps[0:end,0], ps[0:end,1])\n",
    "    plt.plot(ref_x, ref_y, c='m', marker=f'${id}$')\n",
    "    break"
   ]
  },
  {
   "cell_type": "markdown",
   "metadata": {},
   "source": [
    "## Close Scene"
   ]
  },
  {
   "cell_type": "code",
   "execution_count": 32,
   "metadata": {},
   "outputs": [
    {
     "data": {
      "text/plain": [
       "0"
      ]
     },
     "execution_count": 32,
     "metadata": {},
     "output_type": "execute_result"
    }
   ],
   "source": [
    "# close scene\n",
    "sim.closeScene()"
   ]
  }
 ],
 "metadata": {
  "kernelspec": {
   "display_name": "primitiveSLAM",
   "language": "python",
   "name": "python3"
  },
  "language_info": {
   "codemirror_mode": {
    "name": "ipython",
    "version": 3
   },
   "file_extension": ".py",
   "mimetype": "text/x-python",
   "name": "python",
   "nbconvert_exporter": "python",
   "pygments_lexer": "ipython3",
   "version": "3.12.2"
  }
 },
 "nbformat": 4,
 "nbformat_minor": 2
}
